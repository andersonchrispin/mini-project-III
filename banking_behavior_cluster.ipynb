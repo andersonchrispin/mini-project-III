{
 "cells": [
  {
   "cell_type": "code",
   "execution_count": 8,
   "metadata": {},
   "outputs": [],
   "source": [
    "from sklearn.preprocessing import StandardScaler\n",
    "import pandas as pd\n",
    "from sklearn.decomposition import PCA\n",
    "import numpy as np\n",
    "import matplotlib.pyplot as plt\n",
    "from sklearn.cluster import KMeans\n",
    "import plotly.express as px\n",
    "import warnings\n",
    "warnings.filterwarnings(\"ignore\")"
   ]
  },
  {
   "cell_type": "code",
   "execution_count": 33,
   "metadata": {},
   "outputs": [
    {
     "data": {
      "text/html": [
       "<div>\n",
       "<style scoped>\n",
       "    .dataframe tbody tr th:only-of-type {\n",
       "        vertical-align: middle;\n",
       "    }\n",
       "\n",
       "    .dataframe tbody tr th {\n",
       "        vertical-align: top;\n",
       "    }\n",
       "\n",
       "    .dataframe thead th {\n",
       "        text-align: right;\n",
       "    }\n",
       "</style>\n",
       "<table border=\"1\" class=\"dataframe\">\n",
       "  <thead>\n",
       "    <tr style=\"text-align: right;\">\n",
       "      <th></th>\n",
       "      <th>avg_amount_tran</th>\n",
       "      <th>credit_balance</th>\n",
       "      <th>savings_balance</th>\n",
       "      <th>checking_balance</th>\n",
       "    </tr>\n",
       "  </thead>\n",
       "  <tbody>\n",
       "    <tr>\n",
       "      <th>0</th>\n",
       "      <td>269.266706</td>\n",
       "      <td>20.00</td>\n",
       "      <td>1187.97</td>\n",
       "      <td>86.86</td>\n",
       "    </tr>\n",
       "    <tr>\n",
       "      <th>1</th>\n",
       "      <td>381.386000</td>\n",
       "      <td>369.72</td>\n",
       "      <td>2122.17</td>\n",
       "      <td>95.32</td>\n",
       "    </tr>\n",
       "    <tr>\n",
       "      <th>2</th>\n",
       "      <td>278.479306</td>\n",
       "      <td>1100.00</td>\n",
       "      <td>0.00</td>\n",
       "      <td>45.49</td>\n",
       "    </tr>\n",
       "    <tr>\n",
       "      <th>3</th>\n",
       "      <td>98.289600</td>\n",
       "      <td>0.00</td>\n",
       "      <td>116.24</td>\n",
       "      <td>3312.27</td>\n",
       "    </tr>\n",
       "    <tr>\n",
       "      <th>4</th>\n",
       "      <td>211.563389</td>\n",
       "      <td>1548.23</td>\n",
       "      <td>12.89</td>\n",
       "      <td>1401.21</td>\n",
       "    </tr>\n",
       "  </tbody>\n",
       "</table>\n",
       "</div>"
      ],
      "text/plain": [
       "   avg_amount_tran  credit_balance  savings_balance  checking_balance\n",
       "0       269.266706           20.00          1187.97             86.86\n",
       "1       381.386000          369.72          2122.17             95.32\n",
       "2       278.479306         1100.00             0.00             45.49\n",
       "3        98.289600            0.00           116.24           3312.27\n",
       "4       211.563389         1548.23            12.89           1401.21"
      ]
     },
     "execution_count": 33,
     "metadata": {},
     "output_type": "execute_result"
    }
   ],
   "source": [
    "#loading data\n",
    "table_data = pd.read_csv('./Data/cluster_data.csv')\n",
    "table = table_data.loc[:,'avg_amount_tran':'checking_balance']\n",
    "\n",
    "#defining functions\n",
    "def show_cluster(data,label):\n",
    "    plt.figure()\n",
    "    plt.figure(figsize=(5,5))\n",
    "    plt.xticks(fontsize=7)\n",
    "    plt.yticks(fontsize=7)\n",
    "    plt.xlabel('Component 1',fontsize=10)\n",
    "    plt.ylabel('Component 2',fontsize=10)\n",
    "    plt.title(\"Visual of the clusters\",fontsize=10)\n",
    "    colors = {0:'r', 1:'g', 2:'b', 3:'y', 4:'m', 5:'k', 6:'c', 7:'darkgreen'}\n",
    "    for i in data.index:\n",
    "        plt.scatter(data.loc[i, 'component1'],\n",
    "                    data.loc[i, 'component2'], c = colors[label[i]], s = 1.5)\n",
    "    \n",
    "table.head(5)"
   ]
  },
  {
   "cell_type": "code",
   "execution_count": 34,
   "metadata": {},
   "outputs": [
    {
     "data": {
      "text/html": [
       "<div>\n",
       "<style scoped>\n",
       "    .dataframe tbody tr th:only-of-type {\n",
       "        vertical-align: middle;\n",
       "    }\n",
       "\n",
       "    .dataframe tbody tr th {\n",
       "        vertical-align: top;\n",
       "    }\n",
       "\n",
       "    .dataframe thead th {\n",
       "        text-align: right;\n",
       "    }\n",
       "</style>\n",
       "<table border=\"1\" class=\"dataframe\">\n",
       "  <thead>\n",
       "    <tr style=\"text-align: right;\">\n",
       "      <th></th>\n",
       "      <th>avg_amount_tran</th>\n",
       "      <th>credit_balance</th>\n",
       "      <th>savings_balance</th>\n",
       "      <th>checking_balance</th>\n",
       "    </tr>\n",
       "  </thead>\n",
       "  <tbody>\n",
       "    <tr>\n",
       "      <th>0</th>\n",
       "      <td>0.297372</td>\n",
       "      <td>-0.828713</td>\n",
       "      <td>0.909864</td>\n",
       "      <td>-0.441869</td>\n",
       "    </tr>\n",
       "    <tr>\n",
       "      <th>1</th>\n",
       "      <td>1.024934</td>\n",
       "      <td>-0.404047</td>\n",
       "      <td>2.188932</td>\n",
       "      <td>-0.429398</td>\n",
       "    </tr>\n",
       "    <tr>\n",
       "      <th>2</th>\n",
       "      <td>0.357154</td>\n",
       "      <td>0.482733</td>\n",
       "      <td>-0.716656</td>\n",
       "      <td>-0.502851</td>\n",
       "    </tr>\n",
       "    <tr>\n",
       "      <th>3</th>\n",
       "      <td>-0.812129</td>\n",
       "      <td>-0.852999</td>\n",
       "      <td>-0.557505</td>\n",
       "      <td>4.312616</td>\n",
       "    </tr>\n",
       "    <tr>\n",
       "      <th>4</th>\n",
       "      <td>-0.077075</td>\n",
       "      <td>1.027019</td>\n",
       "      <td>-0.699007</td>\n",
       "      <td>1.495577</td>\n",
       "    </tr>\n",
       "  </tbody>\n",
       "</table>\n",
       "</div>"
      ],
      "text/plain": [
       "   avg_amount_tran  credit_balance  savings_balance  checking_balance\n",
       "0         0.297372       -0.828713         0.909864         -0.441869\n",
       "1         1.024934       -0.404047         2.188932         -0.429398\n",
       "2         0.357154        0.482733        -0.716656         -0.502851\n",
       "3        -0.812129       -0.852999        -0.557505          4.312616\n",
       "4        -0.077075        1.027019        -0.699007          1.495577"
      ]
     },
     "execution_count": 34,
     "metadata": {},
     "output_type": "execute_result"
    }
   ],
   "source": [
    "#normalizing the table values\n",
    "x = table.loc[:, table.columns].values\n",
    "x = StandardScaler().fit_transform(x)\n",
    "table_norm = pd.DataFrame(x,columns = table.columns)\n",
    "table_norm.to_csv('./Data/sample_for_cluster_algorithm.csv', index_label=False)\n",
    "table_norm.head(5)\n"
   ]
  },
  {
   "cell_type": "code",
   "execution_count": 35,
   "metadata": {},
   "outputs": [
    {
     "data": {
      "text/plain": [
       "(avg_amount_tran     4.347727e-17\n",
       " credit_balance      1.552759e-16\n",
       " savings_balance     8.540177e-17\n",
       " checking_balance   -8.540177e-18\n",
       " dtype: float64,\n",
       " avg_amount_tran     1.0\n",
       " credit_balance      1.0\n",
       " savings_balance     1.0\n",
       " checking_balance    1.0\n",
       " dtype: float64)"
      ]
     },
     "execution_count": 35,
     "metadata": {},
     "output_type": "execute_result"
    }
   ],
   "source": [
    "#checking the normalization result\n",
    "np.mean(table_norm),np.std(table_norm)\n"
   ]
  },
  {
   "cell_type": "code",
   "execution_count": 36,
   "metadata": {},
   "outputs": [
    {
     "data": {
      "text/html": [
       "<div>\n",
       "<style scoped>\n",
       "    .dataframe tbody tr th:only-of-type {\n",
       "        vertical-align: middle;\n",
       "    }\n",
       "\n",
       "    .dataframe tbody tr th {\n",
       "        vertical-align: top;\n",
       "    }\n",
       "\n",
       "    .dataframe thead th {\n",
       "        text-align: right;\n",
       "    }\n",
       "</style>\n",
       "<table border=\"1\" class=\"dataframe\">\n",
       "  <thead>\n",
       "    <tr style=\"text-align: right;\">\n",
       "      <th></th>\n",
       "      <th>component1</th>\n",
       "      <th>component2</th>\n",
       "    </tr>\n",
       "  </thead>\n",
       "  <tbody>\n",
       "    <tr>\n",
       "      <th>0</th>\n",
       "      <td>-0.241076</td>\n",
       "      <td>1.151046</td>\n",
       "    </tr>\n",
       "    <tr>\n",
       "      <th>1</th>\n",
       "      <td>0.789678</td>\n",
       "      <td>2.248751</td>\n",
       "    </tr>\n",
       "    <tr>\n",
       "      <th>2</th>\n",
       "      <td>0.127506</td>\n",
       "      <td>-0.725880</td>\n",
       "    </tr>\n",
       "    <tr>\n",
       "      <th>3</th>\n",
       "      <td>0.685713</td>\n",
       "      <td>-1.024058</td>\n",
       "    </tr>\n",
       "    <tr>\n",
       "      <th>4</th>\n",
       "      <td>0.998620</td>\n",
       "      <td>-1.180395</td>\n",
       "    </tr>\n",
       "    <tr>\n",
       "      <th>...</th>\n",
       "      <td>...</td>\n",
       "      <td>...</td>\n",
       "    </tr>\n",
       "    <tr>\n",
       "      <th>567</th>\n",
       "      <td>-0.054179</td>\n",
       "      <td>-0.475789</td>\n",
       "    </tr>\n",
       "    <tr>\n",
       "      <th>568</th>\n",
       "      <td>-1.859822</td>\n",
       "      <td>-0.351803</td>\n",
       "    </tr>\n",
       "    <tr>\n",
       "      <th>569</th>\n",
       "      <td>-1.108913</td>\n",
       "      <td>2.645941</td>\n",
       "    </tr>\n",
       "    <tr>\n",
       "      <th>570</th>\n",
       "      <td>0.251235</td>\n",
       "      <td>-0.147176</td>\n",
       "    </tr>\n",
       "    <tr>\n",
       "      <th>571</th>\n",
       "      <td>-0.197954</td>\n",
       "      <td>3.219806</td>\n",
       "    </tr>\n",
       "  </tbody>\n",
       "</table>\n",
       "<p>572 rows × 2 columns</p>\n",
       "</div>"
      ],
      "text/plain": [
       "     component1  component2\n",
       "0     -0.241076    1.151046\n",
       "1      0.789678    2.248751\n",
       "2      0.127506   -0.725880\n",
       "3      0.685713   -1.024058\n",
       "4      0.998620   -1.180395\n",
       "..          ...         ...\n",
       "567   -0.054179   -0.475789\n",
       "568   -1.859822   -0.351803\n",
       "569   -1.108913    2.645941\n",
       "570    0.251235   -0.147176\n",
       "571   -0.197954    3.219806\n",
       "\n",
       "[572 rows x 2 columns]"
      ]
     },
     "execution_count": 36,
     "metadata": {},
     "output_type": "execute_result"
    }
   ],
   "source": [
    "#reducing the features to 2 dimensions\n",
    "pca_table_init = PCA(n_components=2)\n",
    "components_table = pca_table_init.fit_transform(table_norm)\n",
    "\n",
    "pca_table = pd.DataFrame(data = components_table, columns = ['component1', 'component2'])\n",
    "\n",
    "pca_table\n"
   ]
  },
  {
   "cell_type": "code",
   "execution_count": 7,
   "metadata": {},
   "outputs": [
    {
     "data": {
      "image/png": "[encoded data removed]",
      "text/plain": [
       "<Figure size 800x400 with 1 Axes>"
      ]
     },
     "metadata": {},
     "output_type": "display_data"
    }
   ],
   "source": [
    "#plotting elbow\n",
    "wcss = []\n",
    "for k in range(1,11):\n",
    "    km = KMeans(n_clusters=k, init=\"k-means++\")\n",
    "    km.fit(pca_table)\n",
    "    wcss.append(km.inertia_)\n",
    "\n",
    "plt.figure(figsize=(8,4))    \n",
    "plt.grid()\n",
    "plt.plot(range(1,11),wcss, linewidth=2, color=\"red\", marker =\"8\")\n",
    "plt.xlabel(\"K Value\")\n",
    "plt.xticks(np.arange(1,11,1))\n",
    "plt.ylabel(\"WCSS\")\n",
    "plt.show()         "
   ]
  },
  {
   "cell_type": "code",
   "execution_count": 31,
   "metadata": {},
   "outputs": [],
   "source": [
    "#running the 3k cluster\n",
    "km = KMeans(n_clusters = 3, n_init=10, init=\"k-means++\",)\n",
    "table3k = km.fit_predict(pca_table)"
   ]
  },
  {
   "cell_type": "code",
   "execution_count": 15,
   "metadata": {},
   "outputs": [
    {
     "data": {
      "text/plain": [
       "<Figure size 640x480 with 0 Axes>"
      ]
     },
     "metadata": {},
     "output_type": "display_data"
    },
    {
     "data": {
      "image/png": "[encoded data removed]",
      "text/plain": [
       "<Figure size 500x500 with 1 Axes>"
      ]
     },
     "metadata": {},
     "output_type": "display_data"
    }
   ],
   "source": [
    "#visualizing 3k clusters\n",
    "show_cluster(pca_table,table3k)"
   ]
  },
  {
   "cell_type": "code",
   "execution_count": 10,
   "metadata": {},
   "outputs": [],
   "source": [
    "#running the 4k cluster\n",
    "km = KMeans(n_clusters = 4, n_init=10, init=\"k-means++\",)\n",
    "table4k = km.fit_predict(pca_table)\n"
   ]
  },
  {
   "cell_type": "code",
   "execution_count": 11,
   "metadata": {},
   "outputs": [
    {
     "data": {
      "text/plain": [
       "<Figure size 640x480 with 0 Axes>"
      ]
     },
     "metadata": {},
     "output_type": "display_data"
    },
    {
     "data": {
      "image/png": "[encoded data removed]",
      "text/plain": [
       "<Figure size 500x500 with 1 Axes>"
      ]
     },
     "metadata": {},
     "output_type": "display_data"
    }
   ],
   "source": [
    "#visualizing 4k clusters\n",
    "show_cluster(pca_table,table4k)"
   ]
  },
  {
   "cell_type": "code",
   "execution_count": 37,
   "metadata": {},
   "outputs": [],
   "source": [
    "#running the 5k cluster\n",
    "km = KMeans(n_clusters = 5, n_init=10, init=\"k-means++\",)\n",
    "table5k = km.fit_predict(pca_table)\n"
   ]
  },
  {
   "cell_type": "code",
   "execution_count": 38,
   "metadata": {},
   "outputs": [
    {
     "data": {
      "text/plain": [
       "<Figure size 640x480 with 0 Axes>"
      ]
     },
     "metadata": {},
     "output_type": "display_data"
    },
    {
     "data": {
      "image/png": "[encoded data removed]",
      "text/plain": [
       "<Figure size 500x500 with 1 Axes>"
      ]
     },
     "metadata": {},
     "output_type": "display_data"
    }
   ],
   "source": [
    "#visualizing 5k clusters\n",
    "show_cluster(pca_table,table5k)"
   ]
  },
  {
   "cell_type": "code",
   "execution_count": 32,
   "metadata": {},
   "outputs": [
    {
     "data": {
      "text/html": [
       "<div>\n",
       "<style scoped>\n",
       "    .dataframe tbody tr th:only-of-type {\n",
       "        vertical-align: middle;\n",
       "    }\n",
       "\n",
       "    .dataframe tbody tr th {\n",
       "        vertical-align: top;\n",
       "    }\n",
       "\n",
       "    .dataframe thead th {\n",
       "        text-align: right;\n",
       "    }\n",
       "</style>\n",
       "<table border=\"1\" class=\"dataframe\">\n",
       "  <thead>\n",
       "    <tr style=\"text-align: right;\">\n",
       "      <th></th>\n",
       "      <th>cust_id</th>\n",
       "      <th>avg_amount_tran</th>\n",
       "      <th>credit_balance</th>\n",
       "      <th>savings_balance</th>\n",
       "      <th>checking_balance</th>\n",
       "      <th>income</th>\n",
       "      <th>age</th>\n",
       "      <th>years_with_bank</th>\n",
       "      <th>nbr_children</th>\n",
       "      <th>gender</th>\n",
       "      <th>city_name</th>\n",
       "      <th>label</th>\n",
       "    </tr>\n",
       "  </thead>\n",
       "  <tbody>\n",
       "    <tr>\n",
       "      <th>0</th>\n",
       "      <td>1362480</td>\n",
       "      <td>269.266706</td>\n",
       "      <td>20.00</td>\n",
       "      <td>1187.97</td>\n",
       "      <td>86.86</td>\n",
       "      <td>50890</td>\n",
       "      <td>33</td>\n",
       "      <td>3</td>\n",
       "      <td>2</td>\n",
       "      <td>M</td>\n",
       "      <td>New York City</td>\n",
       "      <td>2</td>\n",
       "    </tr>\n",
       "    <tr>\n",
       "      <th>1</th>\n",
       "      <td>1362484</td>\n",
       "      <td>381.386000</td>\n",
       "      <td>369.72</td>\n",
       "      <td>2122.17</td>\n",
       "      <td>95.32</td>\n",
       "      <td>10053</td>\n",
       "      <td>42</td>\n",
       "      <td>2</td>\n",
       "      <td>0</td>\n",
       "      <td>F</td>\n",
       "      <td>Denver</td>\n",
       "      <td>2</td>\n",
       "    </tr>\n",
       "    <tr>\n",
       "      <th>2</th>\n",
       "      <td>1362485</td>\n",
       "      <td>278.479306</td>\n",
       "      <td>1100.00</td>\n",
       "      <td>0.00</td>\n",
       "      <td>45.49</td>\n",
       "      <td>22690</td>\n",
       "      <td>25</td>\n",
       "      <td>4</td>\n",
       "      <td>0</td>\n",
       "      <td>F</td>\n",
       "      <td>New York City</td>\n",
       "      <td>0</td>\n",
       "    </tr>\n",
       "    <tr>\n",
       "      <th>3</th>\n",
       "      <td>1362486</td>\n",
       "      <td>98.289600</td>\n",
       "      <td>0.00</td>\n",
       "      <td>116.24</td>\n",
       "      <td>3312.27</td>\n",
       "      <td>10701</td>\n",
       "      <td>76</td>\n",
       "      <td>6</td>\n",
       "      <td>0</td>\n",
       "      <td>F</td>\n",
       "      <td>Dallas</td>\n",
       "      <td>1</td>\n",
       "    </tr>\n",
       "    <tr>\n",
       "      <th>4</th>\n",
       "      <td>1362487</td>\n",
       "      <td>211.563389</td>\n",
       "      <td>1548.23</td>\n",
       "      <td>12.89</td>\n",
       "      <td>1401.21</td>\n",
       "      <td>6605</td>\n",
       "      <td>71</td>\n",
       "      <td>1</td>\n",
       "      <td>0</td>\n",
       "      <td>M</td>\n",
       "      <td>Los Angeles</td>\n",
       "      <td>1</td>\n",
       "    </tr>\n",
       "  </tbody>\n",
       "</table>\n",
       "</div>"
      ],
      "text/plain": [
       "   cust_id  avg_amount_tran  credit_balance  savings_balance  \\\n",
       "0  1362480       269.266706           20.00          1187.97   \n",
       "1  1362484       381.386000          369.72          2122.17   \n",
       "2  1362485       278.479306         1100.00             0.00   \n",
       "3  1362486        98.289600            0.00           116.24   \n",
       "4  1362487       211.563389         1548.23            12.89   \n",
       "\n",
       "   checking_balance  income  age  years_with_bank  nbr_children gender  \\\n",
       "0             86.86   50890   33                3             2     M    \n",
       "1             95.32   10053   42                2             0     F    \n",
       "2             45.49   22690   25                4             0     F    \n",
       "3           3312.27   10701   76                6             0     F    \n",
       "4           1401.21    6605   71                1             0     M    \n",
       "\n",
       "       city_name  label  \n",
       "0  New York City      2  \n",
       "1         Denver      2  \n",
       "2  New York City      0  \n",
       "3         Dallas      1  \n",
       "4    Los Angeles      1  "
      ]
     },
     "execution_count": 32,
     "metadata": {},
     "output_type": "execute_result"
    }
   ],
   "source": [
    "label = pd.DataFrame()\n",
    "label['label'] = table3k\n",
    "table_data = table_data.join(label)\n",
    "table_data.to_csv('./Data/clustered_data_behavior3k.csv', index_label=False)\n",
    "table_data.head(5)"
   ]
  },
  {
   "cell_type": "code",
   "execution_count": 39,
   "metadata": {},
   "outputs": [
    {
     "data": {
      "text/html": [
       "<div>\n",
       "<style scoped>\n",
       "    .dataframe tbody tr th:only-of-type {\n",
       "        vertical-align: middle;\n",
       "    }\n",
       "\n",
       "    .dataframe tbody tr th {\n",
       "        vertical-align: top;\n",
       "    }\n",
       "\n",
       "    .dataframe thead th {\n",
       "        text-align: right;\n",
       "    }\n",
       "</style>\n",
       "<table border=\"1\" class=\"dataframe\">\n",
       "  <thead>\n",
       "    <tr style=\"text-align: right;\">\n",
       "      <th></th>\n",
       "      <th>cust_id</th>\n",
       "      <th>avg_amount_tran</th>\n",
       "      <th>credit_balance</th>\n",
       "      <th>savings_balance</th>\n",
       "      <th>checking_balance</th>\n",
       "      <th>income</th>\n",
       "      <th>age</th>\n",
       "      <th>years_with_bank</th>\n",
       "      <th>nbr_children</th>\n",
       "      <th>gender</th>\n",
       "      <th>city_name</th>\n",
       "      <th>label</th>\n",
       "    </tr>\n",
       "  </thead>\n",
       "  <tbody>\n",
       "    <tr>\n",
       "      <th>0</th>\n",
       "      <td>1362480</td>\n",
       "      <td>269.266706</td>\n",
       "      <td>20.00</td>\n",
       "      <td>1187.97</td>\n",
       "      <td>86.86</td>\n",
       "      <td>50890</td>\n",
       "      <td>33</td>\n",
       "      <td>3</td>\n",
       "      <td>2</td>\n",
       "      <td>M</td>\n",
       "      <td>New York City</td>\n",
       "      <td>2</td>\n",
       "    </tr>\n",
       "    <tr>\n",
       "      <th>1</th>\n",
       "      <td>1362484</td>\n",
       "      <td>381.386000</td>\n",
       "      <td>369.72</td>\n",
       "      <td>2122.17</td>\n",
       "      <td>95.32</td>\n",
       "      <td>10053</td>\n",
       "      <td>42</td>\n",
       "      <td>2</td>\n",
       "      <td>0</td>\n",
       "      <td>F</td>\n",
       "      <td>Denver</td>\n",
       "      <td>2</td>\n",
       "    </tr>\n",
       "    <tr>\n",
       "      <th>2</th>\n",
       "      <td>1362485</td>\n",
       "      <td>278.479306</td>\n",
       "      <td>1100.00</td>\n",
       "      <td>0.00</td>\n",
       "      <td>45.49</td>\n",
       "      <td>22690</td>\n",
       "      <td>25</td>\n",
       "      <td>4</td>\n",
       "      <td>0</td>\n",
       "      <td>F</td>\n",
       "      <td>New York City</td>\n",
       "      <td>1</td>\n",
       "    </tr>\n",
       "    <tr>\n",
       "      <th>3</th>\n",
       "      <td>1362486</td>\n",
       "      <td>98.289600</td>\n",
       "      <td>0.00</td>\n",
       "      <td>116.24</td>\n",
       "      <td>3312.27</td>\n",
       "      <td>10701</td>\n",
       "      <td>76</td>\n",
       "      <td>6</td>\n",
       "      <td>0</td>\n",
       "      <td>F</td>\n",
       "      <td>Dallas</td>\n",
       "      <td>1</td>\n",
       "    </tr>\n",
       "    <tr>\n",
       "      <th>4</th>\n",
       "      <td>1362487</td>\n",
       "      <td>211.563389</td>\n",
       "      <td>1548.23</td>\n",
       "      <td>12.89</td>\n",
       "      <td>1401.21</td>\n",
       "      <td>6605</td>\n",
       "      <td>71</td>\n",
       "      <td>1</td>\n",
       "      <td>0</td>\n",
       "      <td>M</td>\n",
       "      <td>Los Angeles</td>\n",
       "      <td>1</td>\n",
       "    </tr>\n",
       "  </tbody>\n",
       "</table>\n",
       "</div>"
      ],
      "text/plain": [
       "   cust_id  avg_amount_tran  credit_balance  savings_balance  \\\n",
       "0  1362480       269.266706           20.00          1187.97   \n",
       "1  1362484       381.386000          369.72          2122.17   \n",
       "2  1362485       278.479306         1100.00             0.00   \n",
       "3  1362486        98.289600            0.00           116.24   \n",
       "4  1362487       211.563389         1548.23            12.89   \n",
       "\n",
       "   checking_balance  income  age  years_with_bank  nbr_children gender  \\\n",
       "0             86.86   50890   33                3             2     M    \n",
       "1             95.32   10053   42                2             0     F    \n",
       "2             45.49   22690   25                4             0     F    \n",
       "3           3312.27   10701   76                6             0     F    \n",
       "4           1401.21    6605   71                1             0     M    \n",
       "\n",
       "       city_name  label  \n",
       "0  New York City      2  \n",
       "1         Denver      2  \n",
       "2  New York City      1  \n",
       "3         Dallas      1  \n",
       "4    Los Angeles      1  "
      ]
     },
     "execution_count": 39,
     "metadata": {},
     "output_type": "execute_result"
    }
   ],
   "source": [
    "label = pd.DataFrame()\n",
    "label['label'] = table5k\n",
    "table_data = table_data.join(label)\n",
    "table_data.to_csv('./Data/clustered_data_behavior5k.csv', index_label=False)\n",
    "table_data.head(5)"
   ]
  }
 ],
 "metadata": {
  "kernelspec": {
   "display_name": "test_env",
   "language": "python",
   "name": "test_env"
  },
  "language_info": {
   "codemirror_mode": {
    "name": "ipython",
    "version": 3
   },
   "file_extension": ".py",
   "mimetype": "text/x-python",
   "name": "python",
   "nbconvert_exporter": "python",
   "pygments_lexer": "ipython3",
   "version": "3.10.9"
  },
  "orig_nbformat": 4
 },
 "nbformat": 4,
 "nbformat_minor": 2
}
